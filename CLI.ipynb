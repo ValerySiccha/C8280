{
  "nbformat": 4,
  "nbformat_minor": 0,
  "metadata": {
    "colab": {
      "provenance": [],
      "authorship_tag": "ABX9TyP079wt/0Zx4ROiSwo4D2Ai",
      "include_colab_link": true
    },
    "kernelspec": {
      "name": "python3",
      "display_name": "Python 3"
    },
    "language_info": {
      "name": "python"
    }
  },
  "cells": [
    {
      "cell_type": "markdown",
      "metadata": {
        "id": "view-in-github",
        "colab_type": "text"
      },
      "source": [
        "<a href=\"https://colab.research.google.com/github/ValerySiccha/C8280/blob/main/CLI.ipynb\" target=\"_parent\"><img src=\"https://colab.research.google.com/assets/colab-badge.svg\" alt=\"Open In Colab\"/></a>"
      ]
    },
    {
      "cell_type": "markdown",
      "source": [
        "# SOLUCIÓN DE TAREA CLI. \n",
        "\n",
        "\n",
        "\n",
        "SICCHA HUAYANAY, VALERY KRYSTAL"
      ],
      "metadata": {
        "id": "jlwrdqnKVhFw"
      }
    },
    {
      "cell_type": "markdown",
      "source": [
        "**1) Mire en la parte superior e inferior de data.tsv entregado en esta actividad. Piensa en cómo se estructuran los datos. ¿Qué crees que significa cada columna? ¿Qué crees que significa cada fila?**"
      ],
      "metadata": {
        "id": "MTDpPtRpTXAL"
      }
    },
    {
      "cell_type": "markdown",
      "source": [
        "Rpta1: Cada columna significa los datos que irán ingresando y que se quedarán almacenados dentro de la base de datos .tsv; por otro lado, las filas son las carácterísticas, como son los ids que tendrán cada platillo, la cantidad pedida por platillo, los nombres de los platillos pedidos, las descripciones que tendrá el platillo (Los cuales pueden o no tener una (NULL or NaN)) y el precio que tienen estos.\n"
      ],
      "metadata": {
        "id": "929RtSGjTf1R"
      }
    },
    {
      "cell_type": "markdown",
      "source": [
        "*Mediante uso de líneas de comando:*"
      ],
      "metadata": {
        "id": "g6w4jAG33RJV"
      }
    },
    {
      "cell_type": "code",
      "source": [
        "!head data.tsv"
      ],
      "metadata": {
        "colab": {
          "base_uri": "https://localhost:8080/"
        },
        "id": "to60GXBf29hc",
        "outputId": "4991463c-07d4-4624-feac-665837ce78fb"
      },
      "execution_count": 1,
      "outputs": [
        {
          "output_type": "stream",
          "name": "stdout",
          "text": [
            "order_id\tquantity\titem_name\tchoice_description\titem_price\n",
            "1\t1\tChips and Fresh Tomato Salsa\tNULL\t$2.39 \n",
            "1\t1\tIzze\t[Clementine]\t$3.39 \n",
            "1\t1\tNantucket Nectar\t[Apple]\t$3.39 \n",
            "1\t1\tChips and Tomatillo-Green Chili Salsa\tNULL\t$2.39 \n",
            "2\t2\tChicken Bowl\t[Tomatillo-Red Chili Salsa (Hot), [Black Beans, Rice, Cheese, Sour Cream]]\t$16.98 \n",
            "3\t1\tChicken Bowl\t[Fresh Tomato Salsa (Mild), [Rice, Cheese, Sour Cream, Guacamole, Lettuce]]\t$10.98 \n",
            "3\t1\tSide of Chips\tNULL\t$1.69 \n",
            "4\t1\tSteak Burrito\t[Tomatillo Red Chili Salsa, [Fajita Vegetables, Black Beans, Pinto Beans, Cheese, Sour Cream, Guacamole, Lettuce]]\t$11.75 \n",
            "4\t1\tSteak Soft Tacos\t[Tomatillo Green Chili Salsa, [Pinto Beans, Cheese, Sour Cream, Lettuce]]\t$9.25 \n"
          ]
        }
      ]
    },
    {
      "cell_type": "code",
      "source": [
        "!tail data.tsv"
      ],
      "metadata": {
        "colab": {
          "base_uri": "https://localhost:8080/"
        },
        "id": "6BSh4FXv3NeV",
        "outputId": "23409ae0-5da6-4397-b5a0-80b9a7f6c9cc"
      },
      "execution_count": 2,
      "outputs": [
        {
          "output_type": "stream",
          "name": "stdout",
          "text": [
            "1831\t1\tChips\tNULL\t$2.15 \n",
            "1831\t1\tBottled Water\tNULL\t$1.50 \n",
            "1832\t1\tChicken Soft Tacos\t[Fresh Tomato Salsa, [Rice, Cheese, Sour Cream]]\t$8.75 \n",
            "1832\t1\tChips and Guacamole\tNULL\t$4.45 \n",
            "1833\t1\tSteak Burrito\t[Fresh Tomato Salsa, [Rice, Black Beans, Sour Cream, Cheese, Lettuce, Guacamole]]\t$11.75 \n",
            "1833\t1\tSteak Burrito\t[Fresh Tomato Salsa, [Rice, Sour Cream, Cheese, Lettuce, Guacamole]]\t$11.75 \n",
            "1834\t1\tChicken Salad Bowl\t[Fresh Tomato Salsa, [Fajita Vegetables, Pinto Beans, Guacamole, Lettuce]]\t$11.25 \n",
            "1834\t1\tChicken Salad Bowl\t[Fresh Tomato Salsa, [Fajita Vegetables, Lettuce]]\t$8.75 \n",
            "1834\t1\tChicken Salad Bowl\t[Fresh Tomato Salsa, [Fajita Vegetables, Pinto Beans, Lettuce]]\t$8.75 \n",
            "\n"
          ]
        }
      ]
    },
    {
      "cell_type": "markdown",
      "source": [
        "**2) ¿Cuántos pedidos parece haber?**"
      ],
      "metadata": {
        "id": "nccPTv75UZaw"
      }
    },
    {
      "cell_type": "markdown",
      "source": [
        "Rpta2: Como se puede ver a simple vista y mediante el código de abajo, podemos notar que hay un total de 1834 pedidos que se realizaron."
      ],
      "metadata": {
        "id": "XXY5YAuvUkSf"
      }
    },
    {
      "cell_type": "markdown",
      "source": [
        "*Mediante uso de pandas:*"
      ],
      "metadata": {
        "id": "sQkiozVx3rzo"
      }
    },
    {
      "cell_type": "code",
      "source": [
        "import pandas as pd\n",
        "\n",
        "url='https://raw.githubusercontent.com/kapumota/Cuadernos/main/CLI/data.tsv'\n",
        "\n",
        "df = pd.read_table(url)\n",
        "\n",
        "valor= df['order_id'].value_counts()\n",
        "\n",
        "print(valor)"
      ],
      "metadata": {
        "colab": {
          "base_uri": "https://localhost:8080/"
        },
        "id": "lXvaW7iDBH7w",
        "outputId": "be3c6f61-b4f5-46c8-ed6d-5da820385fb8"
      },
      "execution_count": null,
      "outputs": [
        {
          "output_type": "stream",
          "name": "stdout",
          "text": [
            "926     23\n",
            "1483    14\n",
            "205     12\n",
            "759     11\n",
            "1786    11\n",
            "        ..\n",
            "768      1\n",
            "341      1\n",
            "1048     1\n",
            "94       1\n",
            "1199     1\n",
            "Name: order_id, Length: 1834, dtype: int64\n"
          ]
        }
      ]
    },
    {
      "cell_type": "markdown",
      "source": [
        "*Mediante uso de líneas de comando:*"
      ],
      "metadata": {
        "id": "csMNcitk3uoi"
      }
    },
    {
      "cell_type": "code",
      "source": [
        "#Podemos utilizar también el código anterior de !tail data.tsv \n",
        "\n",
        "!tail data.tsv"
      ],
      "metadata": {
        "colab": {
          "base_uri": "https://localhost:8080/"
        },
        "id": "IOCzvngMH9Xr",
        "outputId": "81e4fe76-0b2e-4108-a765-80112da1ffee"
      },
      "execution_count": 43,
      "outputs": [
        {
          "output_type": "stream",
          "name": "stdout",
          "text": [
            "1831\t1\tChips\tNULL\t$2.15 \n",
            "1831\t1\tBottled Water\tNULL\t$1.50 \n",
            "1832\t1\tChicken Soft Tacos\t[Fresh Tomato Salsa, [Rice, Cheese, Sour Cream]]\t$8.75 \n",
            "1832\t1\tChips and Guacamole\tNULL\t$4.45 \n",
            "1833\t1\tSteak Burrito\t[Fresh Tomato Salsa, [Rice, Black Beans, Sour Cream, Cheese, Lettuce, Guacamole]]\t$11.75 \n",
            "1833\t1\tSteak Burrito\t[Fresh Tomato Salsa, [Rice, Sour Cream, Cheese, Lettuce, Guacamole]]\t$11.75 \n",
            "1834\t1\tChicken Salad Bowl\t[Fresh Tomato Salsa, [Fajita Vegetables, Pinto Beans, Guacamole, Lettuce]]\t$11.25 \n",
            "1834\t1\tChicken Salad Bowl\t[Fresh Tomato Salsa, [Fajita Vegetables, Lettuce]]\t$8.75 \n",
            "1834\t1\tChicken Salad Bowl\t[Fresh Tomato Salsa, [Fajita Vegetables, Pinto Beans, Lettuce]]\t$8.75 \n",
            "\n"
          ]
        }
      ]
    },
    {
      "cell_type": "markdown",
      "source": [
        "**3) ¿Cuántas líneas hay en este archivo?**"
      ],
      "metadata": {
        "id": "SEWr94BJVcPr"
      }
    },
    {
      "cell_type": "markdown",
      "source": [
        "Rpta3: En data.tsv se puede observar, al final de todo el archivo, que hay 4623 líneas de código mientras que mediante el código hecho con pandas aparece que hay 4622 líneas de código. Por otro lado, utilizando líneas de comando se ve que son 4624 líneas de código"
      ],
      "metadata": {
        "id": "gl6lYYC5WAvB"
      }
    },
    {
      "cell_type": "markdown",
      "source": [
        "*Mediante uso de pandas:*"
      ],
      "metadata": {
        "id": "eUzs3sDuB9aN"
      }
    },
    {
      "cell_type": "code",
      "source": [
        "df = pd.read_table(url)\n",
        "\n",
        "print(df)"
      ],
      "metadata": {
        "colab": {
          "base_uri": "https://localhost:8080/"
        },
        "id": "MYmhflNeYmJy",
        "outputId": "06e62b80-963a-4a70-b753-f0e711a5f77e"
      },
      "execution_count": null,
      "outputs": [
        {
          "output_type": "stream",
          "name": "stdout",
          "text": [
            "      order_id  quantity                              item_name  \\\n",
            "0            1         1           Chips and Fresh Tomato Salsa   \n",
            "1            1         1                                   Izze   \n",
            "2            1         1                       Nantucket Nectar   \n",
            "3            1         1  Chips and Tomatillo-Green Chili Salsa   \n",
            "4            2         2                           Chicken Bowl   \n",
            "...        ...       ...                                    ...   \n",
            "4617      1833         1                          Steak Burrito   \n",
            "4618      1833         1                          Steak Burrito   \n",
            "4619      1834         1                     Chicken Salad Bowl   \n",
            "4620      1834         1                     Chicken Salad Bowl   \n",
            "4621      1834         1                     Chicken Salad Bowl   \n",
            "\n",
            "                                     choice_description item_price  \n",
            "0                                                   NaN     $2.39   \n",
            "1                                          [Clementine]     $3.39   \n",
            "2                                               [Apple]     $3.39   \n",
            "3                                                   NaN     $2.39   \n",
            "4     [Tomatillo-Red Chili Salsa (Hot), [Black Beans...    $16.98   \n",
            "...                                                 ...        ...  \n",
            "4617  [Fresh Tomato Salsa, [Rice, Black Beans, Sour ...    $11.75   \n",
            "4618  [Fresh Tomato Salsa, [Rice, Sour Cream, Cheese...    $11.75   \n",
            "4619  [Fresh Tomato Salsa, [Fajita Vegetables, Pinto...    $11.25   \n",
            "4620  [Fresh Tomato Salsa, [Fajita Vegetables, Lettu...     $8.75   \n",
            "4621  [Fresh Tomato Salsa, [Fajita Vegetables, Pinto...     $8.75   \n",
            "\n",
            "[4622 rows x 5 columns]\n"
          ]
        }
      ]
    },
    {
      "cell_type": "markdown",
      "source": [
        "*Mediante uso de líneas de comando:*"
      ],
      "metadata": {
        "id": "8qloZK4dCAgB"
      }
    },
    {
      "cell_type": "code",
      "source": [
        "!cat data.tsv | wc -l\n",
        "\n",
        "\n",
        "#cat es para imprimir los datos del archivo data.tsv mientras que wc -l es para contar el número de líneas"
      ],
      "metadata": {
        "colab": {
          "base_uri": "https://localhost:8080/"
        },
        "id": "2EY8czcn3654",
        "outputId": "6d15a75c-45fc-4f0e-c9ce-51a20e046658"
      },
      "execution_count": 7,
      "outputs": [
        {
          "output_type": "stream",
          "name": "stdout",
          "text": [
            "4624\n"
          ]
        }
      ]
    },
    {
      "cell_type": "markdown",
      "source": [
        "**4) ¿Qué burrito es más popular, steak o chicken?**"
      ],
      "metadata": {
        "id": "fnfy-q0LW0J4"
      }
    },
    {
      "cell_type": "markdown",
      "source": [
        "Rpta4: Según el código de abajo tanto por pandas como por línea de comandos, el burrito más popular es el de ***pollo*** teniendo 553 pedidos mientras que el de carne solamente tiene 368."
      ],
      "metadata": {
        "id": "_DBpvTaqW4_G"
      }
    },
    {
      "cell_type": "markdown",
      "source": [
        "*Mediante el uso de pandas:*"
      ],
      "metadata": {
        "id": "JvTXfSeIMoKc"
      }
    },
    {
      "cell_type": "code",
      "source": [
        "sel = df.columns.isin(['item_name']) \n",
        "gua = df.columns[sel]\n",
        "data= df[gua]\n",
        "\n",
        "steak= data.groupby('item_name').get_group('Steak Burrito')\n",
        "print(steak)\n",
        "\n",
        "chicken= data.groupby('item_name').get_group('Chicken Burrito')\n",
        "print(chicken)"
      ],
      "metadata": {
        "colab": {
          "base_uri": "https://localhost:8080/"
        },
        "id": "MFjVMfbuXXpY",
        "outputId": "0bca19c4-017e-4c90-d1cb-be4cce1c7d2a"
      },
      "execution_count": null,
      "outputs": [
        {
          "output_type": "stream",
          "name": "stdout",
          "text": [
            "          item_name\n",
            "7     Steak Burrito\n",
            "9     Steak Burrito\n",
            "31    Steak Burrito\n",
            "43    Steak Burrito\n",
            "46    Steak Burrito\n",
            "...             ...\n",
            "4546  Steak Burrito\n",
            "4607  Steak Burrito\n",
            "4610  Steak Burrito\n",
            "4617  Steak Burrito\n",
            "4618  Steak Burrito\n",
            "\n",
            "[368 rows x 1 columns]\n",
            "            item_name\n",
            "16    Chicken Burrito\n",
            "17    Chicken Burrito\n",
            "23    Chicken Burrito\n",
            "29    Chicken Burrito\n",
            "45    Chicken Burrito\n",
            "...               ...\n",
            "4556  Chicken Burrito\n",
            "4558  Chicken Burrito\n",
            "4559  Chicken Burrito\n",
            "4566  Chicken Burrito\n",
            "4569  Chicken Burrito\n",
            "\n",
            "[553 rows x 1 columns]\n"
          ]
        }
      ]
    },
    {
      "cell_type": "markdown",
      "source": [
        "*Mediante el uso de líneas de comandos:*"
      ],
      "metadata": {
        "id": "dCrY3NPKMtBf"
      }
    },
    {
      "cell_type": "code",
      "source": [
        "!grep -i 'steak burrito' data.tsv | wc -l\n",
        "\n",
        "#grep es utilizado para buscar especificaciones utilizándose -i para que no distinga entre mayúsculas y minúsculas. \n",
        "#wc -l se explicó anteriomente"
      ],
      "metadata": {
        "colab": {
          "base_uri": "https://localhost:8080/"
        },
        "id": "bNT2czQhFveX",
        "outputId": "264f43c3-ceb7-4626-88b6-345e3f961dcb"
      },
      "execution_count": 33,
      "outputs": [
        {
          "output_type": "stream",
          "name": "stdout",
          "text": [
            "368\n"
          ]
        }
      ]
    },
    {
      "cell_type": "code",
      "source": [
        "!grep -i 'chicken burrito' data.tsv | wc -l"
      ],
      "metadata": {
        "colab": {
          "base_uri": "https://localhost:8080/"
        },
        "id": "xfri48VDHAC1",
        "outputId": "ad2dc41a-1a43-4580-ebdb-d34cfea45106"
      },
      "execution_count": 34,
      "outputs": [
        {
          "output_type": "stream",
          "name": "stdout",
          "text": [
            "553\n"
          ]
        }
      ]
    },
    {
      "cell_type": "markdown",
      "source": [
        "**5) ¿Los burritos de pollo suelen tener frijoles negros o frijoles pintos?**"
      ],
      "metadata": {
        "id": "GdK9NITKW8He"
      }
    },
    {
      "cell_type": "markdown",
      "source": [
        "Rpta5: Según el código de abajo, los burritos suelen tener más *frijoles negros* que frijoles pintos."
      ],
      "metadata": {
        "id": "Etb-mFupW7A7"
      }
    },
    {
      "cell_type": "code",
      "source": [
        "!grep -i 'chicken burrito' data.tsv | grep -i 'black beans' | wc -l\n",
        "\n",
        "#específicamos la búsqueda y sobre esa especificación volvemos a especificar otra búsqueda."
      ],
      "metadata": {
        "colab": {
          "base_uri": "https://localhost:8080/"
        },
        "id": "oHjI-CGJLRBM",
        "outputId": "6ac6f769-bbb7-4d1a-9dad-885d889606e9"
      },
      "execution_count": 44,
      "outputs": [
        {
          "output_type": "stream",
          "name": "stdout",
          "text": [
            "282\n"
          ]
        }
      ]
    },
    {
      "cell_type": "code",
      "source": [
        "!grep -i 'chicken burrito' data.tsv | grep -i 'pinto beans' | wc -l"
      ],
      "metadata": {
        "colab": {
          "base_uri": "https://localhost:8080/"
        },
        "id": "Ww0RLuVJJSls",
        "outputId": "3e9ffe92-b8e4-4881-e663-c1b812a4b368"
      },
      "execution_count": 46,
      "outputs": [
        {
          "output_type": "stream",
          "name": "stdout",
          "text": [
            "105\n"
          ]
        }
      ]
    },
    {
      "cell_type": "markdown",
      "source": [
        "**6) Usa la línea de comandos para descubrir algo interesante sobre los datos dados.**"
      ],
      "metadata": {
        "id": "SfSA1YBqW6oU"
      }
    },
    {
      "cell_type": "code",
      "source": [
        "!head -c 1K data.tsv\n",
        "\n",
        "\n",
        "#se recortó el data.tsv a los primeros 1000 carácteres."
      ],
      "metadata": {
        "colab": {
          "base_uri": "https://localhost:8080/"
        },
        "id": "-sNbYoSpPEX7",
        "outputId": "77382743-c11a-417d-e5c1-294f71d7b8bf"
      },
      "execution_count": 50,
      "outputs": [
        {
          "output_type": "stream",
          "name": "stdout",
          "text": [
            "order_id\tquantity\titem_name\tchoice_description\titem_price\n",
            "1\t1\tChips and Fresh Tomato Salsa\tNULL\t$2.39 \n",
            "1\t1\tIzze\t[Clementine]\t$3.39 \n",
            "1\t1\tNantucket Nectar\t[Apple]\t$3.39 \n",
            "1\t1\tChips and Tomatillo-Green Chili Salsa\tNULL\t$2.39 \n",
            "2\t2\tChicken Bowl\t[Tomatillo-Red Chili Salsa (Hot), [Black Beans, Rice, Cheese, Sour Cream]]\t$16.98 \n",
            "3\t1\tChicken Bowl\t[Fresh Tomato Salsa (Mild), [Rice, Cheese, Sour Cream, Guacamole, Lettuce]]\t$10.98 \n",
            "3\t1\tSide of Chips\tNULL\t$1.69 \n",
            "4\t1\tSteak Burrito\t[Tomatillo Red Chili Salsa, [Fajita Vegetables, Black Beans, Pinto Beans, Cheese, Sour Cream, Guacamole, Lettuce]]\t$11.75 \n",
            "4\t1\tSteak Soft Tacos\t[Tomatillo Green Chili Salsa, [Pinto Beans, Cheese, Sour Cream, Lettuce]]\t$9.25 \n",
            "5\t1\tSteak Burrito\t[Fresh Tomato Salsa, [Rice, Black Beans, Pinto Beans, Cheese, Sour Cream, Lettuce]]\t$9.25 \n",
            "5\t1\tChips and Guacamole\tNULL\t$4.45 \n",
            "6\t1\tChicken Crispy Tacos\t[Roasted Chili Corn Salsa, [Fajita Vegetables, Rice, Black Beans, Cheese, Sour Cream]]\t$8.75 \n",
            "6\t1\tChicken Soft Tacos\t[Roasted Chili Corn Salsa, [Rice, Black B"
          ]
        }
      ]
    }
  ]
}